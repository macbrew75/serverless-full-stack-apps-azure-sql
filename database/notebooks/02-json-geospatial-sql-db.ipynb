{
    "cells": [
        {
            "cell_type": "markdown",
            "metadata": {
                "azdata_cell_guid": "a2782576-c8ad-483e-bd03-289dd656844c"
            },
            "source": [
                "# Modern database capabilities in Azure SQL Database\n",
                "\n",
                "This is a SQL Notebook, which allows you to separate text and code blocks and save code results. Azure Data Studio supports several languages, referred to as kernels, including SQL, PowerShell, Python, and more.\n",
                "\n",
                "In this activity, you'll explore how Azure SQL Database is great for modern scenarios that require JSON and/or geospatial support by using T-SQL to analyze both.\n",
                "\n",
                "## Set up: Connect to `bus-db`\n",
                "\n",
                "At the top of the window, select **Select Connection** \\> **Change Connection** next to \"Attach to\".\n",
                "\n",
                "Under _Recent Connections_ select your `bus-db` connection.\n",
                "\n",
                "You should now see it listed next to _Attach to_."
            ]
        },
        {
            "cell_type": "markdown",
            "metadata": {
                "azdata_cell_guid": "f348fdae-e69a-4271-907d-e6b4e0619151"
            },
            "source": [
                "## Part 1: Explore JSON support\n",
                "\n",
                "If you want to start over at any point, run the below cell to delete the temporary tables. Otherwise, you can skip it."
            ]
        },
        {
            "cell_type": "code",
            "execution_count": null,
            "metadata": {
                "azdata_cell_guid": "c14329fd-fee4-4014-a77d-ed5b59785685"
            },
            "outputs": [],
            "source": [
                "DROP TABLE IF EXISTS #t;\n",
                "DROP TABLE IF EXISTS #g;\n",
                "DROP TABLE IF EXISTS #r;"
            ]
        },
        {
            "cell_type": "markdown",
            "metadata": {
                "azdata_cell_guid": "962dcc3f-be18-4cc3-bdfc-d670c962a0dc"
            },
            "source": [
                "To take a look at an example, let's create a payload which contains two bus data points. This JSON format is similar to what will be ultimately pulled from the real-time data source. Our goal in this section is to add the received bus geolocation data and check if the buses are inside any predefined GeoFence.\n",
                "\n",
                "Once you declare a payload, you can use it to insert the data into a temporary table `#t`. Notice how `openjson(@payload)` allows you to parse the JSON very easily with T-SQL.\n",
                "\n",
                "One other thing to call out from the select statement below is the `GEOGRAPHY::Point([Latitude], [Longitude], 4326)` which is able to take in latitudes and longitudes and convert it to a spatial reference identifier (SRID) which applies to a certain standard (in this case `4326` is used). More on geospatial later in this activity."
            ]
        },
        {
            "cell_type": "code",
            "execution_count": null,
            "metadata": {
                "azdata_cell_guid": "5a690353-b1f9-43b2-85e1-2a7467f7b3ad"
            },
            "outputs": [],
            "source": [
                "DECLARE @payload NVARCHAR(max) = N'[{\n",
                "\t\t\"DirectionId\": 1,\n",
                "\t\t\"RouteId\": 100001,\n",
                "\t\t\"VehicleId\": 1,\n",
                "\t\t\"Position\": {\n",
                "\t\t\t\"Latitude\": 47.61705102765316,\n",
                "\t\t\t\"Longitude\": -122.14291865504012 \n",
                "\t\t},\n",
                "\t\t\"TimestampUTC\": \"20201031\"\n",
                "\t},{\n",
                "        \"DirectionId\": 1,\n",
                "\t\t\"RouteId\": 100531,\n",
                "\t\t\"VehicleId\": 2,\n",
                "\t\t\"Position\": {\n",
                "\t\t\t\"Latitude\": 47.61346156765316,\n",
                "\t\t\t\"Longitude\": -122.14291784492805\n",
                "\t\t},\n",
                "\t\t\"TimestampUTC\": \"20201031\"\n",
                "}]';\n",
                "\n",
                "SELECT\n",
                "\t[DirectionId], \n",
                "\t[RouteId], \n",
                "\t[VehicleId], \n",
                "\tGEOGRAPHY::Point([Latitude], [Longitude], 4326) AS [Location], \n",
                "\t[TimestampUTC]\n",
                "INTO #t\n",
                "FROM\n",
                "\topenjson(@payload) WITH (\n",
                "\t\t[DirectionId] INT,\n",
                "\t\t[RouteId] INT,\n",
                "\t\t[VehicleId] INT,\n",
                "\t\t[Latitude] DECIMAL(10,6) '$.Position.Latitude',\n",
                "\t\t[Longitude] DECIMAL(10,6) '$.Position.Longitude',\n",
                "\t\t[TimestampUTC] DATETIME2(7)\n",
                "\t);"
            ]
        },
        {
            "cell_type": "markdown",
            "metadata": {
                "azdata_cell_guid": "3a30a8e0-5054-471c-84f3-6e28dc47c694"
            },
            "source": [
                "Now that you've inserted data into `#t`, take a look at the results. Azure SQL Database is able to take in the JSON data and turn it into a table without difficulty."
            ]
        },
        {
            "cell_type": "code",
            "execution_count": null,
            "metadata": {
                "azdata_cell_guid": "92c0d495-d239-4dd1-b095-05f8fa0a6cef"
            },
            "outputs": [],
            "source": [
                "select * from #t;"
            ]
        },
        {
            "cell_type": "markdown",
            "metadata": {
                "azdata_cell_guid": "102d8657-f5ab-4921-809d-d77fc9b41ad2"
            },
            "source": [
                "## Part 2: Explore geospatial support\n",
                "\n",
                "You saw briefly how the longitude and latitude were converted to a point using \\`GEOGRAPHY::Point()\\`. In the previous statement you see it as a long string of letters and numbers. By using `ToString()`, you can easily see the point values."
            ]
        },
        {
            "cell_type": "code",
            "execution_count": null,
            "metadata": {
                "azdata_cell_guid": "b8d596bf-0540-49fa-b206-ce52397c0459"
            },
            "outputs": [],
            "source": [
                "SELECT [VehicleId], [Location].ToString() AS Location FROM #t;"
            ]
        },
        {
            "cell_type": "markdown",
            "metadata": {
                "azdata_cell_guid": "a53ad031-a7c3-40a9-bf5b-695a148dbea9"
            },
            "source": [
                "You can navigate to [https://clydedacruz.github.io/openstreetmap-wkt-playground](https://clydedacruz.github.io/openstreetmap-wkt-playground), clear the sample, enter in one of the points and select **Plot Shape** to see the point displayed on a map.\n",
                "\n",
                "You can do other things with the geospatial support, a common one might be to find the distance between, in this case, the two buses."
            ]
        },
        {
            "cell_type": "code",
            "execution_count": null,
            "metadata": {
                "azdata_cell_guid": "1cc9823a-4b83-4e91-a36f-8b503abf0347"
            },
            "outputs": [],
            "source": [
                "declare @bus1 geography;\n",
                "declare @bus2 geography;\n",
                "select @bus1 = [Location] from #t where VehicleId = 1;\n",
                "select @bus2 = [Location] from #t where VehicleId = 2;\n",
                "select @bus1.STDistance(@bus2) as DistanceInMeters;"
            ]
        },
        {
            "cell_type": "markdown",
            "metadata": {
                "azdata_cell_guid": "3f360f2b-eac5-425e-8cd3-0f59d18bbecb"
            },
            "source": [
                "In addition to points, you can also define and store polygons on Earth's surface. This is what we have been referring to as a GeoFence. At the same URL as before, you can replace the `POINT` values with, for example, `POLYGON ((-122.14359028995352 47.618245191245848, -122.14360975757847 47.616519550427654, -122.13966755206604 47.616526111887509, -122.13968701903617 47.617280676597375, -122.142821316476 47.617300360798339, -122.142821316476 47.618186139853435, -122.14359028995352 47.618245191245848))` and see the shape on the map.\n",
                "\n",
                "This shape represents the GeoFence where you might want to be notified that your bus is entering or exiting. Azure SQL Database also supports using the `POLYGON` format to add that data to a table, as shown below."
            ]
        },
        {
            "cell_type": "code",
            "execution_count": null,
            "metadata": {
                "azdata_cell_guid": "78c7acde-05ec-486b-bb6a-5b25f5007c59"
            },
            "outputs": [],
            "source": [
                "SELECT * INTO #g \n",
                "FROM (VALUES(\n",
                "        CAST('Overlake Stop' AS NVARCHAR(100)),\n",
                "        GEOGRAPHY::STGeomFromText('POLYGON ((-122.14359028995352 47.618245191245848, -122.14360975757847 47.616519550427654, -122.13966755206604 47.616526111887509, -122.13968701903617 47.617280676597375, -122.142821316476 47.617300360798339, -122.142821316476 47.618186139853435, -122.14359028995352 47.618245191245848))',4326)\n",
                "    ))\n",
                "    AS s ([BusStop], [GeoFence])\n",
                "SELECT * FROM #g"
            ]
        },
        {
            "cell_type": "markdown",
            "metadata": {
                "azdata_cell_guid": "46ac87ea-ab53-4c87-9b41-57a3b96924a0"
            },
            "source": [
                "Now that you have defined a few points and a GeoFence, you might want to know if and when a bus is located from within the GeoFence. With Azure SQL Database, that is easy to do."
            ]
        },
        {
            "cell_type": "code",
            "execution_count": null,
            "metadata": {
                "azdata_cell_guid": "3e3da57b-2132-4788-b46c-20374d080b2f"
            },
            "outputs": [],
            "source": [
                "SELECT\n",
                "    t.DirectionId,\n",
                "    t.RouteId,\n",
                "    t.VehicleId,\n",
                "    GEOGRAPHY::STGeomCollFromText('GEOMETRYCOLLECTION(' + t.[Location].ToString() + ', ' + g.[GeoFence].ToString() +')',4326).ToString() as [WKT],\n",
                "    t.[Location].STWithin(g.[GeoFence]) as InGeoFence\n",
                "INTO #r \n",
                "FROM #t AS t \n",
                "CROSS JOIN #g AS g \n",
                "WHERE g.[BusStop] = 'Overlake Stop';\n",
                "\n",
                "SELECT * FROM #r;"
            ]
        },
        {
            "cell_type": "markdown",
            "metadata": {
                "azdata_cell_guid": "c8d2f9b4-af0e-48c2-a594-e21bb7e297a7"
            },
            "source": [
                "You can copy a value for `WKT` above and plug it into a map to see that the `InGeoFence` column indeed matches if a bus is in the GeoFence. Note that `GEOMETRYCOLLECTION` allows you to plot points and polygons together."
            ]
        },
        {
            "cell_type": "markdown",
            "metadata": {
                "azdata_cell_guid": "85b43292-8b20-432a-9b39-b72462d02b50"
            },
            "source": [
                "## Part 3: Create Stored Procedures to get and add data\n",
                "\n",
                "You've now seen how to use Azure SQL Database to determine if a bus is within a GeoFence. However, you now need to scale this so it can process real-time data as it flows in. Stored procedures will greatly simplify this in future exercises where you're leveraging other services, e.g. Azure Functions, Azure Logic Apps, Azure App Service, etc.\n",
                "\n",
                "A stored procedure is a way to group SQL statements and execute them on the database with one command. For the catching the bus scenario, three stored procedures will be required and you will create them using your learnings from Parts 1 and 2. As you create the stored procedures, take some time to review the T-SQL and how it compares to what you learned in Parts 1 and 2.\n",
                "\n",
                "1. **web.AddBusData**: this stored procedure takes in JSON data containing new bus route, vehicle, direction, time, and location information and adds it to the _busData_ table. If a bus enters/exits a GeoFence, it will also log this information in the _GeoFencesActive_ table."
            ]
        },
        {
            "cell_type": "code",
            "execution_count": null,
            "metadata": {
                "azdata_cell_guid": "ae8b7a37-24ae-4dda-a1fe-e9fd2f8426a8",
                "tags": []
            },
            "outputs": [],
            "source": [
                "create schema [web] AUTHORIZATION [dbo];\n",
                "go"
            ]
        },
        {
            "cell_type": "code",
            "execution_count": null,
            "metadata": {
                "azdata_cell_guid": "b37cc158-0917-4080-b839-acf01dda488d"
            },
            "outputs": [],
            "source": [
                "DROP TABLE IF EXISTS #t;\n",
                "DROP TABLE IF EXISTS #g;\n",
                "DROP TABLE IF EXISTS #r;"
            ]
        },
        {
            "cell_type": "code",
            "execution_count": null,
            "metadata": {
                "azdata_cell_guid": "a29d10d2-ad7f-4062-bad6-3536ffcb5a1c"
            },
            "outputs": [],
            "source": [
                "/*\n",
                "\tAdd received Bus geolocation data and check if buses are\n",
                "\tinside any defined GeoFence. JSON must be like:\n",
                "\n",
                "\t{\n",
                "\t\t\"DirectionId\": 1,\n",
                "\t\t\"RouteId\": 100001,\n",
                "\t\t\"VehicleId\": 2,\n",
                "\t\t\"Position\": {\n",
                "\t\t\t\"Latitude\": 47.61705102765316,\n",
                "\t\t\t\"Longitude\": -122.14291865504012 \n",
                "\t\t},\n",
                "\t\t\"TimestampUTC\": \"20201031\"\n",
                "\t}\n",
                "}\n",
                "*/\n",
                "create or alter procedure [web].[AddBusData]\n",
                "@payload nvarchar(max) \n",
                "as\n",
                "begin\t\n",
                "\tset nocount on\n",
                "\tset xact_abort on\n",
                "\tset tran isolation level serializable\n",
                "\n",
                "\tbegin tran\n",
                "\n",
                "\tif (isjson(@payload) != 1) begin;\n",
                "\t\tthrow 50000, 'Payload is not a valid JSON document', 16;\n",
                "\tend;\n",
                "\n",
                "\tdeclare @ids as table (id int);\n",
                "\n",
                "\t-- insert bus data\n",
                "\tinsert into dbo.[BusData] \n",
                "\t\t([DirectionId], [RouteId], [VehicleId], [Location], [TimestampUTC])\n",
                "\toutput\n",
                "\t\tinserted.Id into @ids\n",
                "\tselect\n",
                "\t\t[DirectionId], \n",
                "\t\t[RouteId], \n",
                "\t\t[VehicleId], \n",
                "\t\tgeography::Point([Latitude], [Longitude], 4326) as [Location], \n",
                "\t\t[TimestampUTC]\n",
                "\tfrom\n",
                "\t\topenjson(@payload) with (\n",
                "\t\t\t[DirectionId] int,\n",
                "\t\t\t[RouteId] int,\n",
                "\t\t\t[VehicleId] int,\n",
                "\t\t\t[Latitude] decimal(10,6) '$.Position.Latitude',\n",
                "\t\t\t[Longitude] decimal(10,6) '$.Position.Longitude',\n",
                "\t\t\t[TimestampUTC] datetime2(7)\n",
                "\t\t);\n",
                "\t\t\n",
                "\t-- Get details of inserted data\n",
                "\tselect * into #t from dbo.[BusData] bd where bd.id in (select i.id from @ids i);\n",
                "\n",
                "\t-- Find geofences in which the vehicle is in\n",
                "\tselect \n",
                "\t\tt.Id as BusDataId,\n",
                "\t\tt.[VehicleId],\n",
                "\t\tt.[DirectionId],\n",
                "\t\tt.[TimestampUTC],\n",
                "\t\tt.[RouteId],\t\t\n",
                "\t\tg.Id as GeoFenceId\n",
                "\tinto\n",
                "\t\t#g\n",
                "\tfrom \n",
                "\t\tdbo.GeoFences g \n",
                "\tright join\n",
                "\t\t#t t on g.GeoFence.STContains(t.[Location]) = 1;\n",
                "\n",
                "\t-- Calculate status\n",
                "\tselect\n",
                "\t\tc.BusDataId,\n",
                "\t\tcoalesce(a.[GeoFenceId], c.[GeoFenceId]) as GeoFenceId,\n",
                "\t\tcoalesce(a.[DirectionId], c.[DirectionId]) as DirectionId,\n",
                "\t\tcoalesce(a.[VehicleId], c.[VehicleId]) as VehicleId,\n",
                "\t\tc.[RouteId],\n",
                "\t\tc.[TimestampUTC],\n",
                "\t\tcase \n",
                "\t\t\twhen a.GeoFenceId is null and c.GeoFenceId is not null then 'Enter'\n",
                "\t\t\twhen a.GeoFenceId is not null and c.GeoFenceId is null then 'Exit'\t\t\n",
                "\t\tend as [Status]\n",
                "\tinto\n",
                "\t\t#s \n",
                "\tfrom\n",
                "\t\t#g c\n",
                "\tfull outer join\n",
                "\t\tdbo.GeoFencesActive a on c.DirectionId = a.DirectionId and c.VehicleId = a.VehicleId;\n",
                "\t\n",
                "\t-- Delete exited geofences\n",
                "\tdelete \n",
                "\t\ta\n",
                "\tfrom\n",
                "\t\tdbo.GeoFencesActive a\n",
                "\tinner join\n",
                "\t\t#s s on a.VehicleId = s.VehicleId and s.DirectionId = a.DirectionId and s.[Status] = 'Exit';\n",
                "\n",
                "\t-- Insert entered geofences\n",
                "\tinsert into dbo.GeoFencesActive \n",
                "\t\t([GeoFenceId], [DirectionId], [VehicleId])\n",
                "\tselect\n",
                "\t\t[GeoFenceId], [DirectionId], [VehicleId]\n",
                "\tfrom\n",
                "\t\t#s s\n",
                "\twhere \n",
                "\t\ts.[Status] = 'Enter';\n",
                "\n",
                "\t-- Insert Log\n",
                "\tinsert into dbo.GeoFenceLog \n",
                "\t\t(GeoFenceId, BusDataId, [RouteId], [VehicleId], [TimestampUTC], [Status])\n",
                "\tselect\n",
                "\t\tGeoFenceId, BusDataId, [RouteId], [VehicleId], [TimestampUTC], isnull([Status], 'In')\n",
                "\tfrom\n",
                "\t\t#s s\n",
                "\twhere\n",
                "\t\ts.[GeoFenceId] is not null\n",
                "\tand\n",
                "\t\ts.[BusDataId] is not null\n",
                "\n",
                "\t-- Return Entered or Exited geofences\n",
                "\tselect\n",
                "\t((\n",
                "\t\tselect\n",
                "\t\t\ts.[BusDataId],  \n",
                "\t\t\ts.[VehicleId],\n",
                "\t\t\ts.[DirectionId],  \n",
                "\t\t\ts.[RouteId], \n",
                "\t\t\tr.[ShortName] as RouteName,\n",
                "\t\t\ts.[GeoFenceId], \n",
                "\t\t\tgf.[Name] as GeoFence,\n",
                "\t\t\ts.[Status] as GeoFenceStatus,\n",
                "\t\t\ts.[TimestampUTC]\n",
                "\t\tfrom\n",
                "\t\t\t#s s\n",
                "\t\tinner join\n",
                "\t\t\tdbo.[GeoFences] gf on s.[GeoFenceId] = gf.[Id]\n",
                "\t\tinner join\n",
                "\t\t\tdbo.[Routes] r on s.[RouteId] = r.[Id]\n",
                "\t\twhere\n",
                "\t\t\ts.[Status] is not null and s.[GeoFenceId] is not null\n",
                "\t\tfor \n",
                "\t\t\tjson path\n",
                "\t)) as ActivatedGeoFences;\n",
                "\n",
                "\tcommit\n",
                "end"
            ]
        },
        {
            "cell_type": "markdown",
            "metadata": {
                "azdata_cell_guid": "905f2a7b-5775-4149-90c0-afea8ec249ff"
            },
            "source": [
                "2. **web.GetMonitoredRoutes**: this stored procedure returns the route IDs for the bus routes that are being monitored."
            ]
        },
        {
            "cell_type": "code",
            "execution_count": null,
            "metadata": {
                "azdata_cell_guid": "afc7f551-18a4-49bb-bf9f-a8f7f30bdafd"
            },
            "outputs": [],
            "source": [
                "/*\n",
                "\tReturn the Routes (and thus the buses) to monitor\n",
                "*/\n",
                "create or alter procedure [web].[GetMonitoredRoutes]\n",
                "as\n",
                "begin\n",
                "\tselect \n",
                "\t((\t\n",
                "\t\tselect RouteId from dbo.[MonitoredRoutes] for json auto\n",
                "\t)) as MonitoredRoutes\n",
                "end\n",
                "GO"
            ]
        },
        {
            "cell_type": "markdown",
            "metadata": {
                "azdata_cell_guid": "ee6d9b66-9075-4adf-bce7-a09b78d0b303"
            },
            "source": [
                "3. **web.GetMonitoredBusData**: this stored procedure will return bus information for the 50 most-recent buses within 5 kilometers of the monitored GeoFence(s)."
            ]
        },
        {
            "cell_type": "code",
            "execution_count": null,
            "metadata": {
                "azdata_cell_guid": "d7340308-a55c-443f-a235-8f7848d90089"
            },
            "outputs": [],
            "source": [
                "/*\n",
                "\tReturn last geospatial data for bus closest to the GeoFence\n",
                "*/\n",
                "create or alter procedure [web].[GetMonitoredBusData]\n",
                "@routeId int,\n",
                "@geofenceId int\n",
                "as\n",
                "begin\n",
                "\twith cte as\n",
                "\t(\n",
                "\t\t-- Get the latest location of all the buses in the given route\n",
                "\t\tselect top (1) with ties \n",
                "\t\t\t*  \n",
                "\t\tfrom \n",
                "\t\t\tdbo.[BusData] \n",
                "\t\twhere\n",
                "\t\t\t[RouteId] = @routeId\n",
                "\t\torder by \n",
                "\t\t\t[ReceivedAtUTC] desc\n",
                "\t),\n",
                "\tcte2 as\n",
                "\t(\n",
                "\t\t-- Get the closest to the GeoFence\n",
                "\t\tselect top (1)\n",
                "\t\t\tc.[VehicleId],\n",
                "\t\t\tgf.[GeoFence],\n",
                "\t\t\tc.[Location].STDistance(gf.[GeoFence]) as d\n",
                "\t\tfrom\n",
                "\t\t\t[cte] c\n",
                "\t\tcross join\n",
                "\t\t\tdbo.[GeoFences] gf\n",
                "\t\twhere\n",
                "\t\t\tgf.[Id] = @geofenceId\n",
                "\t\torder by\n",
                "\t\t\td \n",
                "\t), cte3 as\n",
                "\t(\n",
                "\t-- Take the last 50 points \n",
                "\tselect top (50)\n",
                "\t\t[bd].[VehicleId],\n",
                "\t\t[bd].[DirectionId],\n",
                "\t\t[bd].[Location] as l,\n",
                "\t\t[bd].[Location].STDistance([GeoFence]) as d\n",
                "\tfrom\n",
                "\t\tdbo.[BusData] bd\n",
                "\tinner join\n",
                "\t\tcte2 on [cte2].[VehicleId] = [bd].[VehicleId]\n",
                "\torder by \n",
                "\t\tid desc\n",
                "\t)\n",
                "\t-- Return only the points that are withing 5 Km\n",
                "\tselect \n",
                "\t((\n",
                "\t\tselect\n",
                "\t\t\tgeography::UnionAggregate(l).ToString() as [busData],\n",
                "\t\t\t(select [GeoFence].ToString() from dbo.[GeoFences] where Id = @geofenceId) as [geoFence]\n",
                "\t\tfrom\n",
                "\t\t\tcte3\n",
                "\t\twhere\n",
                "\t\t\td < 5000\n",
                "\t\tfor json auto, include_null_values, without_array_wrapper\n",
                "\t)) as locationData\n",
                "end\n",
                "GO"
            ]
        },
        {
            "cell_type": "markdown",
            "metadata": {
                "azdata_cell_guid": "57da2a37-393c-47c3-8409-2f3db8d1a7cc"
            },
            "source": [
                "Confirm you've created the stored procedures with the following."
            ]
        },
        {
            "cell_type": "code",
            "execution_count": null,
            "metadata": {
                "azdata_cell_guid": "004217bf-00f5-48e4-ab2f-2b972c9e0394"
            },
            "outputs": [],
            "source": [
                "SELECT * FROM INFORMATION_SCHEMA.ROUTINES WHERE ROUTINE_SCHEMA = 'web'"
            ]
        }
    ],
    "metadata": {
        "kernelspec": {
            "display_name": "SQL",
            "language": "sql",
            "name": "SQL"
        },
        "language_info": {
            "name": "sql",
            "version": ""
        }
    },
    "nbformat": 4,
    "nbformat_minor": 2
}
